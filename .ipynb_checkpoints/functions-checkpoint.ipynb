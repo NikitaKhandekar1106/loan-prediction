{
 "cells": [
  {
   "cell_type": "code",
   "execution_count": 59,
   "id": "linear-priority",
   "metadata": {},
   "outputs": [],
   "source": [
    "import flask\n",
    "import pickle\n",
    "import pandas as pd\n",
    "import numpy as np"
   ]
  },
  {
   "cell_type": "code",
   "execution_count": 60,
   "id": "fantastic-spectacular",
   "metadata": {},
   "outputs": [],
   "source": [
    "with open('rft_model.pickle', 'rb') as f:\n",
    "    rft = pickle.load(f)"
   ]
  },
  {
   "cell_type": "code",
   "execution_count": 96,
   "id": "sonic-platinum",
   "metadata": {},
   "outputs": [],
   "source": [
    "def si(loan_amnt,int_rate,term,annual_inc):\n",
    "        if term==36:\n",
    "            principal_amt=loan_amnt\n",
    "            interest_rate=int_rate\n",
    "            years=3 ##(36/12)=3 yrs\n",
    "            SI=principal_amt*(1+(interest_rate*years))\n",
    "        else:\n",
    "            principal_amt=loan_amnt\n",
    "            interest_rate=int_rate\n",
    "            years=5 ##[60/12]=5 yrs\n",
    "            SI=principal_amt*(1+(interest_rate*years))\n",
    "            \n",
    "        installment = int(SI)\n",
    "        inst_amnt_ratio=installment/loan_amnt\n",
    "        balance_annual_inc=(loan_amnt)/(annual_inc)\n",
    "        return balance_annual_inc"
   ]
  },
  {
   "cell_type": "code",
   "execution_count": 97,
   "id": "intellectual-academy",
   "metadata": {},
   "outputs": [],
   "source": [
    "def make_prediction(dti,balance_annual_inc,revol_util,annual_inc):\n",
    "    \n",
    "    if dti>43:\n",
    "           return 'Debt to income too high!'\n",
    "    elif balance_annual_inc >=0.43:\n",
    "            return 'Debt to income too high!'\n",
    "    elif revol_util>=90:\n",
    "            return 'Amount of credit used up too high!'\n",
    "    elif  annual_inc<=2000:\n",
    "            return 'Loan Denied'\n",
    "    else:\n",
    "            return 'Congratulations! Approved!'"
   ]
  },
  {
   "cell_type": "code",
   "execution_count": 99,
   "id": "sealed-supplement",
   "metadata": {},
   "outputs": [
    {
     "name": "stdout",
     "output_type": "stream",
     "text": [
      "Congratulations! Approved!\n"
     ]
    }
   ],
   "source": [
    "if __name__ == '__main__':\n",
    "    balance_annual_inc=si(5000,10.65,36,24000)\n",
    "    print(make_prediction(27.65, balance_annual_inc, 83.7, 24000))"
   ]
  },
  {
   "cell_type": "code",
   "execution_count": 100,
   "id": "suitable-launch",
   "metadata": {
    "scrolled": false
   },
   "outputs": [
    {
     "name": "stdout",
     "output_type": "stream",
     "text": [
      "Debt to income too high!\n"
     ]
    }
   ],
   "source": [
    "if __name__ == '__main__':\n",
    "    balance_annual_inc=si(21500,15.27,36,24000)\n",
    "    print(make_prediction(27.65, balance_annual_inc, 83.7, 24000))"
   ]
  },
  {
   "cell_type": "code",
   "execution_count": 101,
   "id": "thousand-klein",
   "metadata": {},
   "outputs": [
    {
     "name": "stdout",
     "output_type": "stream",
     "text": [
      "Debt to income too high!\n"
     ]
    }
   ],
   "source": [
    "if __name__ == '__main__':\n",
    "    balance_annual_inc=si(1200,1.2,36,1800)\n",
    "    print(make_prediction(10.75, balance_annual_inc, 67.1, 1800))"
   ]
  },
  {
   "cell_type": "code",
   "execution_count": null,
   "id": "pregnant-tongue",
   "metadata": {},
   "outputs": [],
   "source": []
  },
  {
   "cell_type": "code",
   "execution_count": null,
   "id": "dynamic-cement",
   "metadata": {},
   "outputs": [],
   "source": []
  }
 ],
 "metadata": {
  "kernelspec": {
   "display_name": "Python 3",
   "language": "python",
   "name": "python3"
  },
  "language_info": {
   "codemirror_mode": {
    "name": "ipython",
    "version": 3
   },
   "file_extension": ".py",
   "mimetype": "text/x-python",
   "name": "python",
   "nbconvert_exporter": "python",
   "pygments_lexer": "ipython3",
   "version": "3.9.2"
  }
 },
 "nbformat": 4,
 "nbformat_minor": 5
}
